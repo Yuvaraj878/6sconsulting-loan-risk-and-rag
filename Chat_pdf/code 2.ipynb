{
 "cells": [
  {
   "cell_type": "code",
   "execution_count": 1,
   "id": "269bba6c",
   "metadata": {},
   "outputs": [],
   "source": [
    "import os\n",
    "import pdfplumber\n",
    "import pytesseract\n",
    "from pdf2image import convert_from_path\n",
    "from sentence_transformers import SentenceTransformer\n",
    "from sklearn.metrics.pairwise import cosine_similarity\n",
    "from dotenv import load_dotenv\n",
    "from google import genai\n",
    "\n",
    "# ---- 0. Setup ----\n",
    "load_dotenv()\n",
    "client = genai.Client()  # Reads GOOGLE_API_KEY from .env\n",
    "\n",
    "PDF_PATH = \"ML_Resume.pdf\"\n",
    "if not os.path.exists(PDF_PATH):\n",
    "    PDF_PATH = input(\"Enter your PDF file name/path: \").strip()"
   ]
  },
  {
   "cell_type": "code",
   "execution_count": 2,
   "id": "8bfc8b9e",
   "metadata": {},
   "outputs": [
    {
     "name": "stdout",
     "output_type": "stream",
     "text": [
      "[INFO] Text extraction successful without OCR.\n"
     ]
    }
   ],
   "source": [
    "# ---- 1. PDF Extraction (OCR fallback) ----\n",
    "text = \"\"\n",
    "with pdfplumber.open(PDF_PATH) as pdf:\n",
    "    for page in pdf.pages:\n",
    "        pg_text = page.extract_text()\n",
    "        if pg_text:\n",
    "            text += pg_text + \"\\n\"\n",
    "if not text.strip():\n",
    "    print(\"[INFO] No selectable text—using OCR fallback.\")\n",
    "    images = convert_from_path(PDF_PATH, dpi=200)\n",
    "    for image in images:\n",
    "        text += pytesseract.image_to_string(image) + \"\\n\"\n",
    "else:\n",
    "    print(\"[INFO] Text extraction successful without OCR.\")"
   ]
  },
  {
   "cell_type": "code",
   "execution_count": 3,
   "id": "660b363f",
   "metadata": {},
   "outputs": [
    {
     "name": "stdout",
     "output_type": "stream",
     "text": [
      "[INFO] PDF split into 1 chunks.\n"
     ]
    }
   ],
   "source": [
    "# ---- 2. Chunk text for RAG ----\n",
    "chunk_size = 500\n",
    "overlap = 50\n",
    "words = text.split()\n",
    "chunks = []\n",
    "for i in range(0, len(words), chunk_size - overlap):\n",
    "    chunk = \" \".join(words[i:i + chunk_size])\n",
    "    chunks.append(chunk)\n",
    "    if i + chunk_size >= len(words):\n",
    "        break\n",
    "print(f\"[INFO] PDF split into {len(chunks)} chunks.\")"
   ]
  },
  {
   "cell_type": "code",
   "execution_count": 4,
   "id": "7c5546a5",
   "metadata": {},
   "outputs": [
    {
     "data": {
      "application/vnd.jupyter.widget-view+json": {
       "model_id": "a3e07411fa4746389921a88542750c55",
       "version_major": 2,
       "version_minor": 0
      },
      "text/plain": [
       "Batches:   0%|          | 0/1 [00:00<?, ?it/s]"
      ]
     },
     "metadata": {},
     "output_type": "display_data"
    }
   ],
   "source": [
    "# ---- 3. Compute Embeddings ----\n",
    "model_name = 'all-MiniLM-L6-v2'\n",
    "model = SentenceTransformer(model_name)\n",
    "chunk_embeddings = model.encode(chunks, convert_to_tensor=False, show_progress_bar=True)"
   ]
  },
  {
   "cell_type": "code",
   "execution_count": null,
   "id": "95925732",
   "metadata": {},
   "outputs": [
    {
     "name": "stdout",
     "output_type": "stream",
     "text": [
      "\n",
      "--- Top relevant PDF passages ---\n",
      "\n",
      "Chunk #1 (sim=0.33):\n",
      "Yuvaraj S Machine Learning Engineer — Software Engineer (cid:131) +91 9384137766 # ai.yuvaraj21@gmail.com (cid:239) LinkedIn § GitHub (cid:128) Portfolio Aspiring Machine Learning Engineer with a passion for building scalable AI solutions and real-time applications. Technical Skills Languages: Python, JavaScript, HTML, CSS ML/AI: TensorFlow, PyTorch, Scikit-learn, OpenCV, BERT, Neural Networks, Computer Vision, NLP Web/Backend: Django, REST API, MongoDB Tools/Cloud: Git, AWS, Jupyter, Postman, CI/CD Experience Machine Learning Engineer July 2024 – Present Techso IT LLC, USA – Developed real-ti\n",
      "\n",
      "Final Answer:\n",
      " Based on the provided resume, Yuvaraj S is an aspiring Machine Learning Engineer with experience in developing real-time AI applications and scalable solutions.  Their skills encompass various programming languages (Python, JavaScript, HTML, CSS), machine learning frameworks (TensorFlow, PyTorch, Scikit-learn, OpenCV, BERT), backend development (Django, REST API, MongoDB), cloud technologies (AWS), and tools like Git and Jupyter.\n",
      "\n",
      "Their experience includes roles as a Machine Learning Engineer at Techso IT LLC, where they developed real-time audio transcription and NLP summarization systems; an AI/Software Developer for the Flipkart Robotic Challenge, focusing on API development for real-time inference; and an ML Developer for the Amazon ML Challenge, working on NLP models for product attribute extraction.  They also have experience in several personal projects demonstrating their proficiency in areas such as computer vision, video processing, and database management.  Yuvaraj is expected to graduate with a B.Tech in Artificial Intelligence and Machine Learning in May 2026.\n",
      "\n",
      "--- Top relevant PDF passages ---\n",
      "\n",
      "Chunk #1 (sim=0.11):\n",
      "Yuvaraj S Machine Learning Engineer — Software Engineer (cid:131) +91 9384137766 # ai.yuvaraj21@gmail.com (cid:239) LinkedIn § GitHub (cid:128) Portfolio Aspiring Machine Learning Engineer with a passion for building scalable AI solutions and real-time applications. Technical Skills Languages: Python, JavaScript, HTML, CSS ML/AI: TensorFlow, PyTorch, Scikit-learn, OpenCV, BERT, Neural Networks, Computer Vision, NLP Web/Backend: Django, REST API, MongoDB Tools/Cloud: Git, AWS, Jupyter, Postman, CI/CD Experience Machine Learning Engineer July 2024 – Present Techso IT LLC, USA – Developed real-ti\n",
      "\n",
      "Final Answer:\n",
      " Based on the provided text, Yuvaraj S's CGPA is 8.3/10.\n",
      "\n",
      "--- Top relevant PDF passages ---\n",
      "\n",
      "Chunk #1 (sim=0.29):\n",
      "Yuvaraj S Machine Learning Engineer — Software Engineer (cid:131) +91 9384137766 # ai.yuvaraj21@gmail.com (cid:239) LinkedIn § GitHub (cid:128) Portfolio Aspiring Machine Learning Engineer with a passion for building scalable AI solutions and real-time applications. Technical Skills Languages: Python, JavaScript, HTML, CSS ML/AI: TensorFlow, PyTorch, Scikit-learn, OpenCV, BERT, Neural Networks, Computer Vision, NLP Web/Backend: Django, REST API, MongoDB Tools/Cloud: Git, AWS, Jupyter, Postman, CI/CD Experience Machine Learning Engineer July 2024 – Present Techso IT LLC, USA – Developed real-ti\n",
      "\n",
      "Final Answer:\n",
      " The provided text describes several projects undertaken by Yuvaraj S.  There's not one single project, but rather multiple, each with a different focus and technologies used. Here's a summary:\n",
      "\n",
      "* **Library Access Control System:** This project involved creating a Django REST API backend with MySQL for user management and access logging.  It also included a real-time video processing pipeline using OpenCV for multi-camera integration and an admin dashboard with analytics.  The system showed a 25% improvement in access management efficiency.  Technologies used include Python, TensorFlow, Django, Android Studio, and AndroidX.\n",
      "\n",
      "* **FlipIQ AI E-Commerce Platform:** This project focused on building an e-commerce platform using computer vision (ResNet50) for product similarity matching (88% accuracy).  The frontend was built with HTML, CSS, and JavaScript, while the backend utilized the Django framework.  The platform could handle 1000+ concurrent users.\n",
      "\n",
      "* **EchoFlow Audio Analysis:** This project involved designing a real-time audio transcription and sentiment analysis pipeline (95% accuracy overall).  It utilized BERT for sentiment analysis (87% accuracy) and a Django API for audio data storage and retrieval. An automated reporting system was created to analyze 10,000+ audio files daily.  Technologies used include TensorFlow and BERT.\n",
      "\n",
      "In addition to these projects, Yuvaraj's experience includes work at Techso IT LLC and participation in the Flipkart and Amazon ML Challenges, where he developed various machine learning models for tasks like real-time audio transcription, NLP summarization, and product attribute extraction.  Specific details of these projects (outside of the listed accomplishments) aren't included in the provided text.\n"
     ]
    }
   ],
   "source": [
    "# ---- 4. Query loop: semantic retrieval + Gemini answer ----\n",
    "while True:\n",
    "    user_question = input(\"\\nAsk a question about your PDF (or 'exit'): \").strip()\n",
    "    if user_question.lower() == \"exit\":\n",
    "        break\n",
    "\n",
    "    # Semantic search (cosine similarity)\n",
    "    query_embed = model.encode(user_question, convert_to_tensor=False)\n",
    "    sims = cosine_similarity([query_embed], chunk_embeddings)[0]\n",
    "    top_idx = sims.argsort()[::-1][:3]\n",
    "    top_chunks = [(chunks[i], sims[i]) for i in top_idx]\n",
    "\n",
    "    print(\"\\n--- Top relevant PDF passages ---\")\n",
    "    for idx, (chunk, sim) in enumerate(top_chunks, 1):\n",
    "        print(f\"\\nChunk #{idx} (sim={sim:.2f}):\\n{chunk[:600]}\")  # Print first 600 characters\n",
    "\n",
    "    use_extra = input(\"\\nAllow outside knowledge in answer? (y/n): \").strip().lower() == \"y\"\n",
    "    # Prompt for Gemini LLM\n",
    "    context = \"\\n\\n\".join([\n",
    "        f\"Context {i+1}:\\n{chunk}\" for i, (chunk, _) in enumerate(top_chunks)\n",
    "    ])\n",
    "    if use_extra:\n",
    "        sys_prompt = (\n",
    "            \"You are a helpful assistant. Answer the user's question using the provided PDF context. \"\n",
    "            \"You MAY also include helpful outside knowledge, but cite the PDF if it has the answer.\"\n",
    "        )\n",
    "    else:\n",
    "        sys_prompt = (\n",
    "            \"You are a helpful assistant. Answer using ONLY the PDF context below. \"\n",
    "            \"If the answer isn't present, say so (do NOT add outside knowledge).\"\n",
    "        )\n",
    "    prompt = f\"\"\"{sys_prompt}\n",
    "\n",
    "Context:\n",
    "{context}\n",
    "Question: {user_question}\n",
    "Answer:\"\"\"\n",
    "\n",
    "    response = client.models.generate_content(\n",
    "        model=\"models/gemini-1.5-flash-latest\",\n",
    "        contents=prompt\n",
    "    )\n",
    "    print(\"\\nFinal Answer:\\n\", response.text.strip())\n",
    "\n",
    "print(\"\\n[Done]\")"
   ]
  },
  {
   "cell_type": "code",
   "execution_count": null,
   "id": "f4c5a657",
   "metadata": {},
   "outputs": [],
   "source": []
  }
 ],
 "metadata": {
  "kernelspec": {
   "display_name": "Python 3",
   "language": "python",
   "name": "python3"
  },
  "language_info": {
   "codemirror_mode": {
    "name": "ipython",
    "version": 3
   },
   "file_extension": ".py",
   "mimetype": "text/x-python",
   "name": "python",
   "nbconvert_exporter": "python",
   "pygments_lexer": "ipython3",
   "version": "3.9.9"
  }
 },
 "nbformat": 4,
 "nbformat_minor": 5
}
